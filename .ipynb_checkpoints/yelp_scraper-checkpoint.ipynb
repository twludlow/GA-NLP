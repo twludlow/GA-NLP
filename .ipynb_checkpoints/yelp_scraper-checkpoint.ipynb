{
 "cells": [
  {
   "cell_type": "code",
   "execution_count": 1,
   "metadata": {},
   "outputs": [],
   "source": [
    "import requests\n",
    "from bs4 import BeautifulSoup\n",
    "import pandas as pd\n",
    "import numpy as np"
   ]
  },
  {
   "cell_type": "markdown",
   "metadata": {},
   "source": [
    "# Basic Scrape"
   ]
  },
  {
   "cell_type": "code",
   "execution_count": 7,
   "metadata": {},
   "outputs": [],
   "source": [
    "req = requests.get('https://www.yelp.com/biz/frijolitos-new-york-2?hrid=BLupS78ZcaWflLpdvtOmNA&osq=Burrito')"
   ]
  },
  {
   "cell_type": "code",
   "execution_count": 8,
   "metadata": {},
   "outputs": [
    {
     "data": {
      "text/plain": [
       "<Response [200]>"
      ]
     },
     "execution_count": 8,
     "metadata": {},
     "output_type": "execute_result"
    }
   ],
   "source": [
    "req"
   ]
  },
  {
   "cell_type": "code",
   "execution_count": 9,
   "metadata": {},
   "outputs": [],
   "source": [
    "soup = BeautifulSoup(req.text,'html.parser')"
   ]
  },
  {
   "cell_type": "code",
   "execution_count": 10,
   "metadata": {},
   "outputs": [
    {
     "data": {
      "text/plain": [
       "'\\n\\n\\n\\n\\n  \\n\\n            window.yPageStart = new Date().getTime();\\n\\n            var initialVisibilityState = document.webkitVisibilityState;\\n\\n                yPerfTimings = [];\\n\\n                ySitRepPar'"
      ]
     },
     "execution_count": 10,
     "metadata": {},
     "output_type": "execute_result"
    }
   ],
   "source": [
    "soup.text[:200]"
   ]
  },
  {
   "cell_type": "code",
   "execution_count": 12,
   "metadata": {},
   "outputs": [
    {
     "data": {
      "text/plain": [
       "\"Best burrito i've had outside of California. I'm always on the look out for awesome authentic Mexican food. Found it! Carnitas burrito was great, steak one was just okay. But we'll definitely be back.\""
      ]
     },
     "execution_count": 12,
     "metadata": {},
     "output_type": "execute_result"
    }
   ],
   "source": [
    "soup.find('p', {'lang': 'en'}).text"
   ]
  },
  {
   "cell_type": "markdown",
   "metadata": {},
   "source": [
    "### Twitter API"
   ]
  },
  {
   "cell_type": "code",
   "execution_count": 36,
   "metadata": {},
   "outputs": [],
   "source": [
    "import tweepy"
   ]
  },
  {
   "cell_type": "code",
   "execution_count": 37,
   "metadata": {},
   "outputs": [],
   "source": [
    "auth = tweepy.OAuthHandler(consumer_key, consumer_secret)"
   ]
  },
  {
   "cell_type": "code",
   "execution_count": 38,
   "metadata": {},
   "outputs": [],
   "source": [
    "auth.set_access_token(access_token_key, access_token_secret)"
   ]
  },
  {
   "cell_type": "code",
   "execution_count": 39,
   "metadata": {},
   "outputs": [],
   "source": [
    "api = tweepy.API(auth)"
   ]
  },
  {
   "cell_type": "code",
   "execution_count": 40,
   "metadata": {},
   "outputs": [],
   "source": [
    "public_tweets = api.get_user('twitter')"
   ]
  },
  {
   "cell_type": "code",
   "execution_count": 45,
   "metadata": {},
   "outputs": [
    {
     "data": {
      "text/plain": [
       "User(_api=<tweepy.api.API object at 0x10c84a198>, _json={'id': 783214, 'id_str': '783214', 'name': 'Twitter', 'screen_name': 'Twitter', 'location': 'San Francisco, CA', 'profile_location': None, 'description': 'Your official source for what’s happening.  Need a hand? Visit https://t.co/heEvRrCFXn', 'url': 'https://t.co/gN5JJwhQy7', 'entities': {'url': {'urls': [{'url': 'https://t.co/gN5JJwhQy7', 'expanded_url': 'https://blog.twitter.com/', 'display_url': 'blog.twitter.com', 'indices': [0, 23]}]}, 'description': {'urls': [{'url': 'https://t.co/heEvRrCFXn', 'expanded_url': 'https://help.twitter.com', 'display_url': 'help.twitter.com', 'indices': [63, 86]}]}}, 'protected': False, 'followers_count': 62937718, 'friends_count': 144, 'listed_count': 90900, 'created_at': 'Tue Feb 20 14:35:54 +0000 2007', 'favourites_count': 5550, 'utc_offset': -25200, 'time_zone': 'Pacific Time (US & Canada)', 'geo_enabled': True, 'verified': True, 'statuses_count': 6709, 'lang': 'en', 'status': {'created_at': 'Tue Apr 24 22:16:21 +0000 2018', 'id': 988904506053230593, 'id_str': '988904506053230593', 'text': \"@JonVespasian They're the greatest of takes. 🔥\", 'truncated': False, 'entities': {'hashtags': [], 'symbols': [], 'user_mentions': [{'screen_name': 'JonVespasian', 'name': 'Jon Vespasian', 'id': 253756068, 'id_str': '253756068', 'indices': [0, 13]}], 'urls': []}, 'source': '<a href=\"http://twitter.com\" rel=\"nofollow\">Twitter Web Client</a>', 'in_reply_to_status_id': 988842626307756032, 'in_reply_to_status_id_str': '988842626307756032', 'in_reply_to_user_id': 253756068, 'in_reply_to_user_id_str': '253756068', 'in_reply_to_screen_name': 'JonVespasian', 'geo': None, 'coordinates': None, 'place': None, 'contributors': None, 'is_quote_status': False, 'retweet_count': 3, 'favorite_count': 23, 'favorited': False, 'retweeted': False, 'lang': 'en'}, 'contributors_enabled': False, 'is_translator': False, 'is_translation_enabled': False, 'profile_background_color': 'ACDED6', 'profile_background_image_url': 'http://pbs.twimg.com/profile_background_images/657090062/l1uqey5sy82r9ijhke1i.png', 'profile_background_image_url_https': 'https://pbs.twimg.com/profile_background_images/657090062/l1uqey5sy82r9ijhke1i.png', 'profile_background_tile': True, 'profile_image_url': 'http://pbs.twimg.com/profile_images/875087697177567232/Qfy0kRIP_normal.jpg', 'profile_image_url_https': 'https://pbs.twimg.com/profile_images/875087697177567232/Qfy0kRIP_normal.jpg', 'profile_banner_url': 'https://pbs.twimg.com/profile_banners/783214/1520968514', 'profile_link_color': '1B95E0', 'profile_sidebar_border_color': 'FFFFFF', 'profile_sidebar_fill_color': 'F6F6F6', 'profile_text_color': '333333', 'profile_use_background_image': True, 'has_extended_profile': True, 'default_profile': False, 'default_profile_image': False, 'following': False, 'follow_request_sent': False, 'notifications': False, 'translator_type': 'regular'}, id=783214, id_str='783214', name='Twitter', screen_name='Twitter', location='San Francisco, CA', profile_location=None, description='Your official source for what’s happening.  Need a hand? Visit https://t.co/heEvRrCFXn', url='https://t.co/gN5JJwhQy7', entities={'url': {'urls': [{'url': 'https://t.co/gN5JJwhQy7', 'expanded_url': 'https://blog.twitter.com/', 'display_url': 'blog.twitter.com', 'indices': [0, 23]}]}, 'description': {'urls': [{'url': 'https://t.co/heEvRrCFXn', 'expanded_url': 'https://help.twitter.com', 'display_url': 'help.twitter.com', 'indices': [63, 86]}]}}, protected=False, followers_count=62937718, friends_count=144, listed_count=90900, created_at=datetime.datetime(2007, 2, 20, 14, 35, 54), favourites_count=5550, utc_offset=-25200, time_zone='Pacific Time (US & Canada)', geo_enabled=True, verified=True, statuses_count=6709, lang='en', status=Status(_api=<tweepy.api.API object at 0x10c84a198>, _json={'created_at': 'Tue Apr 24 22:16:21 +0000 2018', 'id': 988904506053230593, 'id_str': '988904506053230593', 'text': \"@JonVespasian They're the greatest of takes. 🔥\", 'truncated': False, 'entities': {'hashtags': [], 'symbols': [], 'user_mentions': [{'screen_name': 'JonVespasian', 'name': 'Jon Vespasian', 'id': 253756068, 'id_str': '253756068', 'indices': [0, 13]}], 'urls': []}, 'source': '<a href=\"http://twitter.com\" rel=\"nofollow\">Twitter Web Client</a>', 'in_reply_to_status_id': 988842626307756032, 'in_reply_to_status_id_str': '988842626307756032', 'in_reply_to_user_id': 253756068, 'in_reply_to_user_id_str': '253756068', 'in_reply_to_screen_name': 'JonVespasian', 'geo': None, 'coordinates': None, 'place': None, 'contributors': None, 'is_quote_status': False, 'retweet_count': 3, 'favorite_count': 23, 'favorited': False, 'retweeted': False, 'lang': 'en'}, created_at=datetime.datetime(2018, 4, 24, 22, 16, 21), id=988904506053230593, id_str='988904506053230593', text=\"@JonVespasian They're the greatest of takes. 🔥\", truncated=False, entities={'hashtags': [], 'symbols': [], 'user_mentions': [{'screen_name': 'JonVespasian', 'name': 'Jon Vespasian', 'id': 253756068, 'id_str': '253756068', 'indices': [0, 13]}], 'urls': []}, source='Twitter Web Client', source_url='http://twitter.com', in_reply_to_status_id=988842626307756032, in_reply_to_status_id_str='988842626307756032', in_reply_to_user_id=253756068, in_reply_to_user_id_str='253756068', in_reply_to_screen_name='JonVespasian', geo=None, coordinates=None, place=None, contributors=None, is_quote_status=False, retweet_count=3, favorite_count=23, favorited=False, retweeted=False, lang='en'), contributors_enabled=False, is_translator=False, is_translation_enabled=False, profile_background_color='ACDED6', profile_background_image_url='http://pbs.twimg.com/profile_background_images/657090062/l1uqey5sy82r9ijhke1i.png', profile_background_image_url_https='https://pbs.twimg.com/profile_background_images/657090062/l1uqey5sy82r9ijhke1i.png', profile_background_tile=True, profile_image_url='http://pbs.twimg.com/profile_images/875087697177567232/Qfy0kRIP_normal.jpg', profile_image_url_https='https://pbs.twimg.com/profile_images/875087697177567232/Qfy0kRIP_normal.jpg', profile_banner_url='https://pbs.twimg.com/profile_banners/783214/1520968514', profile_link_color='1B95E0', profile_sidebar_border_color='FFFFFF', profile_sidebar_fill_color='F6F6F6', profile_text_color='333333', profile_use_background_image=True, has_extended_profile=True, default_profile=False, default_profile_image=False, following=False, follow_request_sent=False, notifications=False, translator_type='regular')"
      ]
     },
     "execution_count": 45,
     "metadata": {},
     "output_type": "execute_result"
    }
   ],
   "source": [
    "public_tweets"
   ]
  },
  {
   "cell_type": "code",
   "execution_count": 51,
   "metadata": {},
   "outputs": [
    {
     "name": "stdout",
     "output_type": "stream",
     "text": [
      "@JonVespasian They're the greatest of takes. 🔥\n",
      "@Deendalee 👋\n",
      "@cherylt2000 Your Twitter is your stage. 🌟\n",
      "Protecting and defending your privacy is at the heart of our work. Today, we’re launching our new Privacy Policy an… https://t.co/OEiE72W4IM\n",
      "@dawnymock The most beautiful live-Tweeting anyone could do.\n",
      "@beautychickee1 ¯\\_(ツ)_/¯\n",
      "@marlee_kat It's the sacrifice of fame.\n",
      "@elrob Not a bad idea. 🔖\n",
      "@rosadona We would never try to say otherwise.\n",
      "@jesseTperkins Thank you for answering. 💙\n",
      "@ArabMuIa Try to wear shades next time. 🕶\n",
      "@TheMcBang Hot take.\n",
      "@yrinfinitycrush #WeMetOnTwitter has been quite successful.\n",
      "@xo_lanie Time to save up. 🔖\n",
      "@Bethenny 💙\n",
      "@AndOneAndy It happens. 😏\n",
      "@hashtagcatie ✏️📱\n",
      "@callmegullay Start with a Tweet. 😏\n",
      "Twitter is proud to support #EqualPayDay, today and every day.\n",
      "\n",
      "All of our people, of all genders, races, and ethni… https://t.co/C5KuaWCtUs\n",
      "@MEPFuller Sometimes battery percentage has to take a back seat when Twitter is involved.\n"
     ]
    }
   ],
   "source": [
    "for tweet in public_tweets.timeline():\n",
    "    print(tweet.text)"
   ]
  },
  {
   "cell_type": "markdown",
   "metadata": {},
   "source": [
    "### Kanye's Tweets"
   ]
  },
  {
   "cell_type": "code",
   "execution_count": 92,
   "metadata": {},
   "outputs": [
    {
     "name": "stdout",
     "output_type": "stream",
     "text": [
      "I haven't done enough research on conservatives to call myself or be called one. I'm just refusing to be enslaved by monolithic thought.\n",
      "https://t.co/CBfSpDahCP\n",
      "https://t.co/ayEL4Fkftq\n",
      "https://t.co/7PlBuFVc6G\n",
      "https://t.co/Sd8YC2ZAcf\n",
      "https://t.co/ZxLgpv8s19\n",
      "https://t.co/5CE8Nmo7z9\n",
      "https://t.co/86zXN9v580\n",
      "https://t.co/BmbKLap9cy\n",
      "https://t.co/rfoaaN0mmT\n",
      "https://t.co/YIAyJvwtfx\n",
      "https://t.co/tkJn2NvHSj\n",
      "https://t.co/wQJo53QO4G\n",
      "https://t.co/Szs0DASi52\n",
      "https://t.co/X7glcr2ois\n",
      "Artist transform tragedy into beauty\n",
      "spread love. Put more love into the universe.\n",
      "we are more worried about what we can lose than what we feel\n",
      "it's really cool to say I hate you. But it's not cool to say I love you. Love has a stigma\n",
      "Instead of doing what you feel \n",
      "you just do what other people think you should do\n"
     ]
    }
   ],
   "source": [
    "public_tweets = api.get_user('kanyewest')\n",
    "for tweet in public_tweets.timeline():\n",
    "    print(tweet.text)"
   ]
  },
  {
   "cell_type": "code",
   "execution_count": 54,
   "metadata": {},
   "outputs": [],
   "source": [
    "req = requests.get('https://twitter.com/kanyewest')"
   ]
  },
  {
   "cell_type": "code",
   "execution_count": 55,
   "metadata": {},
   "outputs": [
    {
     "data": {
      "text/plain": [
       "<Response [200]>"
      ]
     },
     "execution_count": 55,
     "metadata": {},
     "output_type": "execute_result"
    }
   ],
   "source": [
    "req"
   ]
  },
  {
   "cell_type": "code",
   "execution_count": 56,
   "metadata": {},
   "outputs": [],
   "source": [
    "soup = BeautifulSoup(req.text, 'html.parser')"
   ]
  },
  {
   "cell_type": "code",
   "execution_count": 57,
   "metadata": {},
   "outputs": [
    {
     "data": {
      "text/plain": [
       "'\\n\\n\\n\\n\\n        !function(){window.initErrorstack||(window.initErrorstack=[]),window.onerror=function(r,i,n,o,t){r.indexOf(\"Script error.\")>-1||window.initErrorstack.push({errorMsg:r,url:i,lineNumber:n,c'"
      ]
     },
     "execution_count": 57,
     "metadata": {},
     "output_type": "execute_result"
    }
   ],
   "source": [
    "soup.text[:200]"
   ]
  },
  {
   "cell_type": "code",
   "execution_count": 63,
   "metadata": {},
   "outputs": [],
   "source": [
    "tweets = soup.find_all('p', {'class': 'TweetTextSize TweetTextSize--normal js-tweet-text tweet-text'})"
   ]
  },
  {
   "cell_type": "code",
   "execution_count": 84,
   "metadata": {},
   "outputs": [
    {
     "name": "stdout",
     "output_type": "stream",
     "text": [
      "I haven't done enough research on conservatives to call myself or be called one. I'm just refusing to be enslaved by monolithic thought.\n",
      "pic.twitter.com/CBfSpDahCP\n",
      "pic.twitter.com/ayEL4Fkftq\n",
      "pic.twitter.com/7PlBuFVc6G\n",
      "pic.twitter.com/Sd8YC2ZAcf\n",
      "pic.twitter.com/ZxLgpv8s19\n",
      "pic.twitter.com/5CE8Nmo7z9\n",
      "pic.twitter.com/86zXN9v580\n",
      "pic.twitter.com/BmbKLap9cy\n",
      "pic.twitter.com/rfoaaN0mmT\n",
      "pic.twitter.com/YIAyJvwtfx\n",
      "pic.twitter.com/tkJn2NvHSj\n",
      "pic.twitter.com/wQJo53QO4G\n",
      "pic.twitter.com/Szs0DASi52\n",
      "pic.twitter.com/X7glcr2ois\n",
      "Artist transform tragedy into beauty\n",
      "spread love. Put more love into the universe.\n",
      "we are more worried about what we can lose than what we feel\n",
      "it's really cool to say I hate you. But it's not cool to say I love you. Love has a stigma\n",
      "Instead of doing what you feel \n",
      "you just do what other people think you should do\n"
     ]
    }
   ],
   "source": [
    "tweet_kanye = []\n",
    "for i in tweets:\n",
    "    tweet_kanye.append(i.text)\n",
    "    print(i.text)"
   ]
  },
  {
   "cell_type": "code",
   "execution_count": 85,
   "metadata": {},
   "outputs": [
    {
     "data": {
      "text/plain": [
       "[\"I haven't done enough research on conservatives to call myself or be called one. I'm just refusing to be enslaved by monolithic thought.\",\n",
       " 'pic.twitter.com/CBfSpDahCP',\n",
       " 'pic.twitter.com/ayEL4Fkftq',\n",
       " 'pic.twitter.com/7PlBuFVc6G',\n",
       " 'pic.twitter.com/Sd8YC2ZAcf',\n",
       " 'pic.twitter.com/ZxLgpv8s19',\n",
       " 'pic.twitter.com/5CE8Nmo7z9',\n",
       " 'pic.twitter.com/86zXN9v580',\n",
       " 'pic.twitter.com/BmbKLap9cy',\n",
       " 'pic.twitter.com/rfoaaN0mmT',\n",
       " 'pic.twitter.com/YIAyJvwtfx',\n",
       " 'pic.twitter.com/tkJn2NvHSj',\n",
       " 'pic.twitter.com/wQJo53QO4G',\n",
       " 'pic.twitter.com/Szs0DASi52',\n",
       " 'pic.twitter.com/X7glcr2ois',\n",
       " 'Artist transform tragedy into beauty',\n",
       " 'spread love. Put more love into the universe.',\n",
       " 'we are more worried about what we can lose than what we feel',\n",
       " \"it's really cool to say I hate you. But it's not cool to say I love you. Love has a stigma\",\n",
       " 'Instead of doing what you feel \\nyou just do what other people think you should do']"
      ]
     },
     "execution_count": 85,
     "metadata": {},
     "output_type": "execute_result"
    }
   ],
   "source": [
    "tweet_kanye"
   ]
  },
  {
   "cell_type": "code",
   "execution_count": 72,
   "metadata": {},
   "outputs": [
    {
     "name": "stdout",
     "output_type": "stream",
     "text": [
      "[\"I haven't done enough research on conservatives to call myself or be called one. I'm just refusing to be enslaved by monolithic thought.\", 'https://t.co/CBfSpDahCP', 'https://t.co/ayEL4Fkftq', 'https://t.co/7PlBuFVc6G', 'https://t.co/Sd8YC2ZAcf', 'https://t.co/ZxLgpv8s19', 'https://t.co/5CE8Nmo7z9', 'https://t.co/86zXN9v580', 'https://t.co/BmbKLap9cy', 'https://t.co/rfoaaN0mmT', 'https://t.co/YIAyJvwtfx', 'https://t.co/tkJn2NvHSj', 'https://t.co/wQJo53QO4G', 'https://t.co/Szs0DASi52', 'https://t.co/X7glcr2ois', 'Artist transform tragedy into beauty', 'spread love. Put more love into the universe.', 'we are more worried about what we can lose than what we feel', \"it's really cool to say I hate you. But it's not cool to say I love you. Love has a stigma\", 'Instead of doing what you feel \\nyou just do what other people think you should do']\n"
     ]
    }
   ],
   "source": [
    "get_tweets('kanyewest')"
   ]
  },
  {
   "cell_type": "markdown",
   "metadata": {},
   "source": [
    "### Sentiment"
   ]
  },
  {
   "cell_type": "code",
   "execution_count": 75,
   "metadata": {},
   "outputs": [],
   "source": [
    "from textblob import TextBlob"
   ]
  },
  {
   "cell_type": "code",
   "execution_count": 87,
   "metadata": {},
   "outputs": [],
   "source": [
    "analysis = TextBlob(\"this is bad text or good very very good\") "
   ]
  },
  {
   "cell_type": "code",
   "execution_count": 77,
   "metadata": {},
   "outputs": [
    {
     "name": "stdout",
     "output_type": "stream",
     "text": [
      "['__add__', '__class__', '__contains__', '__delattr__', '__dict__', '__dir__', '__doc__', '__eq__', '__format__', '__ge__', '__getattribute__', '__getitem__', '__gt__', '__hash__', '__init__', '__init_subclass__', '__iter__', '__le__', '__len__', '__lt__', '__module__', '__ne__', '__new__', '__reduce__', '__reduce_ex__', '__repr__', '__setattr__', '__sizeof__', '__str__', '__subclasshook__', '__weakref__', '_cmpkey', '_compare', '_create_sentence_objects', '_strkey', 'analyzer', 'classifier', 'classify', 'correct', 'detect_language', 'ends_with', 'endswith', 'find', 'format', 'index', 'join', 'json', 'lower', 'ngrams', 'noun_phrases', 'np_counts', 'np_extractor', 'parse', 'parser', 'polarity', 'pos_tagger', 'pos_tags', 'raw', 'raw_sentences', 'replace', 'rfind', 'rindex', 'sentences', 'sentiment', 'sentiment_assessments', 'serialized', 'split', 'starts_with', 'startswith', 'string', 'strip', 'stripped', 'subjectivity', 'tags', 'title', 'to_json', 'tokenize', 'tokenizer', 'tokens', 'translate', 'translator', 'upper', 'word_counts', 'words']\n"
     ]
    }
   ],
   "source": [
    "print(dir(analysis))"
   ]
  },
  {
   "cell_type": "code",
   "execution_count": 81,
   "metadata": {},
   "outputs": [
    {
     "data": {
      "text/plain": [
       "[('this', 'DT'),\n",
       " ('is', 'VBZ'),\n",
       " ('bad', 'JJ'),\n",
       " ('text', 'NN'),\n",
       " ('or', 'CC'),\n",
       " ('good', 'JJ'),\n",
       " ('very', 'RB'),\n",
       " ('very', 'RB'),\n",
       " ('good', 'JJ')]"
      ]
     },
     "execution_count": 81,
     "metadata": {},
     "output_type": "execute_result"
    }
   ],
   "source": [
    "analysis.tags"
   ]
  },
  {
   "cell_type": "code",
   "execution_count": 82,
   "metadata": {},
   "outputs": [
    {
     "data": {
      "text/plain": [
       "Sentiment(polarity=0.30333333333333334, subjectivity=0.6822222222222223)"
      ]
     },
     "execution_count": 82,
     "metadata": {},
     "output_type": "execute_result"
    }
   ],
   "source": [
    "analysis.sentiment"
   ]
  },
  {
   "cell_type": "code",
   "execution_count": 89,
   "metadata": {},
   "outputs": [
    {
     "name": "stdout",
     "output_type": "stream",
     "text": [
      "Sentiment(polarity=0.0, subjectivity=0.5)\n",
      "Sentiment(polarity=0.0, subjectivity=0.0)\n",
      "Sentiment(polarity=0.0, subjectivity=0.0)\n",
      "Sentiment(polarity=0.0, subjectivity=0.0)\n",
      "Sentiment(polarity=0.0, subjectivity=0.0)\n",
      "Sentiment(polarity=0.0, subjectivity=0.0)\n",
      "Sentiment(polarity=0.0, subjectivity=0.0)\n",
      "Sentiment(polarity=0.0, subjectivity=0.0)\n",
      "Sentiment(polarity=0.0, subjectivity=0.0)\n",
      "Sentiment(polarity=0.0, subjectivity=0.0)\n",
      "Sentiment(polarity=0.0, subjectivity=0.0)\n",
      "Sentiment(polarity=0.0, subjectivity=0.0)\n",
      "Sentiment(polarity=0.0, subjectivity=0.0)\n",
      "Sentiment(polarity=0.0, subjectivity=0.0)\n",
      "Sentiment(polarity=0.0, subjectivity=0.0)\n",
      "Sentiment(polarity=0.0, subjectivity=0.0)\n",
      "Sentiment(polarity=0.5, subjectivity=0.5666666666666668)\n",
      "Sentiment(polarity=0.5, subjectivity=0.5)\n",
      "Sentiment(polarity=0.075, subjectivity=0.68)\n",
      "Sentiment(polarity=-0.125, subjectivity=0.375)\n"
     ]
    }
   ],
   "source": [
    "pos_count = 0\n",
    "pos_correct = 0\n",
    "\n",
    "for tw in tweet_kanye:\n",
    "    a2 = TextBlob(tw)\n",
    "    print(a2.sentiment)"
   ]
  },
  {
   "cell_type": "code",
   "execution_count": 108,
   "metadata": {},
   "outputs": [
    {
     "data": {
      "text/plain": [
       "['we are more worried about what we can lose than what we feel',\n",
       " \"it's really cool to say I hate you. But it's not cool to say I love you. Love has a stigma\",\n",
       " 'Instead of doing what you feel \\nyou just do what other people think you should do']"
      ]
     },
     "execution_count": 108,
     "metadata": {},
     "output_type": "execute_result"
    }
   ],
   "source": [
    "tweet_kanye[-3:]"
   ]
  },
  {
   "cell_type": "code",
   "execution_count": 103,
   "metadata": {},
   "outputs": [],
   "source": [
    "def get_tweet(user):\n",
    "    tweet_text = []\n",
    "    polarity = []\n",
    "    subjectivity = []\n",
    "    public_tweets = api.get_user(user)\n",
    "    for tweet in public_tweets.timeline():\n",
    "        tweet_text.append(tweet.text)\n",
    "        a2 = TextBlob(tweet.text)\n",
    "        polarity.append(a2.polarity)\n",
    "        subjectivity.append(a2.subjectivity)\n",
    "    df = pd.DataFrame( {\n",
    "            'Tweet': tweet_text,\n",
    "            'Polarity Score': polarity,\n",
    "            'Subjectivity Score': subjectivity,\n",
    "        })\n",
    "    return df.head()"
   ]
  },
  {
   "cell_type": "code",
   "execution_count": 104,
   "metadata": {},
   "outputs": [
    {
     "data": {
      "text/html": [
       "<div>\n",
       "<style scoped>\n",
       "    .dataframe tbody tr th:only-of-type {\n",
       "        vertical-align: middle;\n",
       "    }\n",
       "\n",
       "    .dataframe tbody tr th {\n",
       "        vertical-align: top;\n",
       "    }\n",
       "\n",
       "    .dataframe thead th {\n",
       "        text-align: right;\n",
       "    }\n",
       "</style>\n",
       "<table border=\"1\" class=\"dataframe\">\n",
       "  <thead>\n",
       "    <tr style=\"text-align: right;\">\n",
       "      <th></th>\n",
       "      <th>Polarity Score</th>\n",
       "      <th>Subjectivity Score</th>\n",
       "      <th>Tweet</th>\n",
       "    </tr>\n",
       "  </thead>\n",
       "  <tbody>\n",
       "    <tr>\n",
       "      <th>0</th>\n",
       "      <td>0.000000</td>\n",
       "      <td>0.000000</td>\n",
       "      <td>Just Out: House Intelligence Committee Report ...</td>\n",
       "    </tr>\n",
       "    <tr>\n",
       "      <th>1</th>\n",
       "      <td>-0.017187</td>\n",
       "      <td>0.350000</td>\n",
       "      <td>Look forward to meeting with Chancellor Angela...</td>\n",
       "    </tr>\n",
       "    <tr>\n",
       "      <th>2</th>\n",
       "      <td>0.211111</td>\n",
       "      <td>0.427778</td>\n",
       "      <td>Kanye West has performed a great service to th...</td>\n",
       "    </tr>\n",
       "    <tr>\n",
       "      <th>3</th>\n",
       "      <td>0.750000</td>\n",
       "      <td>0.675000</td>\n",
       "      <td>Please do not forget the great help that my go...</td>\n",
       "    </tr>\n",
       "    <tr>\n",
       "      <th>4</th>\n",
       "      <td>0.566667</td>\n",
       "      <td>0.550000</td>\n",
       "      <td>So great to have Staff Sgt. Dan Nevins and the...</td>\n",
       "    </tr>\n",
       "  </tbody>\n",
       "</table>\n",
       "</div>"
      ],
      "text/plain": [
       "   Polarity Score  Subjectivity Score  \\\n",
       "0        0.000000            0.000000   \n",
       "1       -0.017187            0.350000   \n",
       "2        0.211111            0.427778   \n",
       "3        0.750000            0.675000   \n",
       "4        0.566667            0.550000   \n",
       "\n",
       "                                               Tweet  \n",
       "0  Just Out: House Intelligence Committee Report ...  \n",
       "1  Look forward to meeting with Chancellor Angela...  \n",
       "2  Kanye West has performed a great service to th...  \n",
       "3  Please do not forget the great help that my go...  \n",
       "4  So great to have Staff Sgt. Dan Nevins and the...  "
      ]
     },
     "execution_count": 104,
     "metadata": {},
     "output_type": "execute_result"
    }
   ],
   "source": [
    "get_tweet('realDonaldTrump')"
   ]
  },
  {
   "cell_type": "markdown",
   "metadata": {},
   "source": [
    "### Challenge\n",
    "\n",
    "Use Yelp to build a sentiment analyzer for their reviews.  "
   ]
  }
 ],
 "metadata": {
  "kernelspec": {
   "display_name": "Python 3",
   "language": "python",
   "name": "python3"
  },
  "language_info": {
   "codemirror_mode": {
    "name": "ipython",
    "version": 3
   },
   "file_extension": ".py",
   "mimetype": "text/x-python",
   "name": "python",
   "nbconvert_exporter": "python",
   "pygments_lexer": "ipython3",
   "version": "3.6.4"
  }
 },
 "nbformat": 4,
 "nbformat_minor": 2
}
