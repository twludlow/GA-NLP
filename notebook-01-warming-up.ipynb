{
 "cells": [
  {
   "cell_type": "markdown",
   "metadata": {},
   "source": [
    "# Practice with JSON"
   ]
  },
  {
   "cell_type": "code",
   "execution_count": 1,
   "metadata": {},
   "outputs": [],
   "source": [
    "import pandas as pd"
   ]
  },
  {
   "cell_type": "code",
   "execution_count": 2,
   "metadata": {},
   "outputs": [],
   "source": [
    "import json"
   ]
  },
  {
   "cell_type": "code",
   "execution_count": 3,
   "metadata": {},
   "outputs": [],
   "source": [
    "db = json.load(open('data/usda.json'))"
   ]
  },
  {
   "cell_type": "code",
   "execution_count": 4,
   "metadata": {},
   "outputs": [
    {
     "data": {
      "text/plain": [
       "dict_keys(['id', 'description', 'tags', 'manufacturer', 'group', 'portions', 'nutrients'])"
      ]
     },
     "execution_count": 4,
     "metadata": {},
     "output_type": "execute_result"
    }
   ],
   "source": [
    "db[0].keys()"
   ]
  },
  {
   "cell_type": "code",
   "execution_count": 5,
   "metadata": {},
   "outputs": [
    {
     "data": {
      "text/plain": [
       "{'description': 'Cheese, caraway',\n",
       " 'group': 'Dairy and Egg Products',\n",
       " 'id': 1008,\n",
       " 'manufacturer': '',\n",
       " 'nutrients': [{'description': 'Protein',\n",
       "   'group': 'Composition',\n",
       "   'units': 'g',\n",
       "   'value': 25.18},\n",
       "  {'description': 'Total lipid (fat)',\n",
       "   'group': 'Composition',\n",
       "   'units': 'g',\n",
       "   'value': 29.2},\n",
       "  {'description': 'Carbohydrate, by difference',\n",
       "   'group': 'Composition',\n",
       "   'units': 'g',\n",
       "   'value': 3.06},\n",
       "  {'description': 'Ash', 'group': 'Other', 'units': 'g', 'value': 3.28},\n",
       "  {'description': 'Energy',\n",
       "   'group': 'Energy',\n",
       "   'units': 'kcal',\n",
       "   'value': 376.0},\n",
       "  {'description': 'Water',\n",
       "   'group': 'Composition',\n",
       "   'units': 'g',\n",
       "   'value': 39.28},\n",
       "  {'description': 'Energy', 'group': 'Energy', 'units': 'kJ', 'value': 1573.0},\n",
       "  {'description': 'Fiber, total dietary',\n",
       "   'group': 'Composition',\n",
       "   'units': 'g',\n",
       "   'value': 0.0},\n",
       "  {'description': 'Calcium, Ca',\n",
       "   'group': 'Elements',\n",
       "   'units': 'mg',\n",
       "   'value': 673.0},\n",
       "  {'description': 'Iron, Fe',\n",
       "   'group': 'Elements',\n",
       "   'units': 'mg',\n",
       "   'value': 0.64},\n",
       "  {'description': 'Magnesium, Mg',\n",
       "   'group': 'Elements',\n",
       "   'units': 'mg',\n",
       "   'value': 22.0},\n",
       "  {'description': 'Phosphorus, P',\n",
       "   'group': 'Elements',\n",
       "   'units': 'mg',\n",
       "   'value': 490.0},\n",
       "  {'description': 'Potassium, K',\n",
       "   'group': 'Elements',\n",
       "   'units': 'mg',\n",
       "   'value': 93.0},\n",
       "  {'description': 'Sodium, Na',\n",
       "   'group': 'Elements',\n",
       "   'units': 'mg',\n",
       "   'value': 690.0},\n",
       "  {'description': 'Zinc, Zn',\n",
       "   'group': 'Elements',\n",
       "   'units': 'mg',\n",
       "   'value': 2.94},\n",
       "  {'description': 'Copper, Cu',\n",
       "   'group': 'Elements',\n",
       "   'units': 'mg',\n",
       "   'value': 0.024},\n",
       "  {'description': 'Manganese, Mn',\n",
       "   'group': 'Elements',\n",
       "   'units': 'mg',\n",
       "   'value': 0.021},\n",
       "  {'description': 'Selenium, Se',\n",
       "   'group': 'Elements',\n",
       "   'units': 'mcg',\n",
       "   'value': 14.5},\n",
       "  {'description': 'Vitamin A, IU',\n",
       "   'group': 'Vitamins',\n",
       "   'units': 'IU',\n",
       "   'value': 1054.0},\n",
       "  {'description': 'Retinol',\n",
       "   'group': 'Vitamins',\n",
       "   'units': 'mcg',\n",
       "   'value': 262.0},\n",
       "  {'description': 'Vitamin A, RAE',\n",
       "   'group': 'Vitamins',\n",
       "   'units': 'mcg_RAE',\n",
       "   'value': 271.0},\n",
       "  {'description': 'Vitamin C, total ascorbic acid',\n",
       "   'group': 'Vitamins',\n",
       "   'units': 'mg',\n",
       "   'value': 0.0},\n",
       "  {'description': 'Thiamin',\n",
       "   'group': 'Vitamins',\n",
       "   'units': 'mg',\n",
       "   'value': 0.031},\n",
       "  {'description': 'Riboflavin',\n",
       "   'group': 'Vitamins',\n",
       "   'units': 'mg',\n",
       "   'value': 0.45},\n",
       "  {'description': 'Niacin', 'group': 'Vitamins', 'units': 'mg', 'value': 0.18},\n",
       "  {'description': 'Pantothenic acid',\n",
       "   'group': 'Vitamins',\n",
       "   'units': 'mg',\n",
       "   'value': 0.19},\n",
       "  {'description': 'Vitamin B-6',\n",
       "   'group': 'Vitamins',\n",
       "   'units': 'mg',\n",
       "   'value': 0.074},\n",
       "  {'description': 'Folate, total',\n",
       "   'group': 'Vitamins',\n",
       "   'units': 'mcg',\n",
       "   'value': 18.0},\n",
       "  {'description': 'Vitamin B-12',\n",
       "   'group': 'Vitamins',\n",
       "   'units': 'mcg',\n",
       "   'value': 0.27},\n",
       "  {'description': 'Folic acid',\n",
       "   'group': 'Vitamins',\n",
       "   'units': 'mcg',\n",
       "   'value': 0.0},\n",
       "  {'description': 'Folate, food',\n",
       "   'group': 'Vitamins',\n",
       "   'units': 'mcg',\n",
       "   'value': 18.0},\n",
       "  {'description': 'Folate, DFE',\n",
       "   'group': 'Vitamins',\n",
       "   'units': 'mcg_DFE',\n",
       "   'value': 18.0},\n",
       "  {'description': 'Cholesterol',\n",
       "   'group': 'Other',\n",
       "   'units': 'mg',\n",
       "   'value': 93.0},\n",
       "  {'description': 'Fatty acids, total saturated',\n",
       "   'group': 'Other',\n",
       "   'units': 'g',\n",
       "   'value': 18.584},\n",
       "  {'description': 'Fatty acids, total monounsaturated',\n",
       "   'group': 'Other',\n",
       "   'units': 'g',\n",
       "   'value': 8.275},\n",
       "  {'description': 'Fatty acids, total polyunsaturated',\n",
       "   'group': 'Other',\n",
       "   'units': 'g',\n",
       "   'value': 0.83},\n",
       "  {'description': 'Tryptophan',\n",
       "   'group': 'Amino Acids',\n",
       "   'units': 'g',\n",
       "   'value': 0.324},\n",
       "  {'description': 'Threonine',\n",
       "   'group': 'Amino Acids',\n",
       "   'units': 'g',\n",
       "   'value': 0.896},\n",
       "  {'description': 'Isoleucine',\n",
       "   'group': 'Amino Acids',\n",
       "   'units': 'g',\n",
       "   'value': 1.563},\n",
       "  {'description': 'Leucine',\n",
       "   'group': 'Amino Acids',\n",
       "   'units': 'g',\n",
       "   'value': 2.412},\n",
       "  {'description': 'Lysine',\n",
       "   'group': 'Amino Acids',\n",
       "   'units': 'g',\n",
       "   'value': 2.095},\n",
       "  {'description': 'Methionine',\n",
       "   'group': 'Amino Acids',\n",
       "   'units': 'g',\n",
       "   'value': 0.659},\n",
       "  {'description': 'Cystine',\n",
       "   'group': 'Amino Acids',\n",
       "   'units': 'g',\n",
       "   'value': 0.126},\n",
       "  {'description': 'Phenylalanine',\n",
       "   'group': 'Amino Acids',\n",
       "   'units': 'g',\n",
       "   'value': 1.326},\n",
       "  {'description': 'Tyrosine',\n",
       "   'group': 'Amino Acids',\n",
       "   'units': 'g',\n",
       "   'value': 1.216},\n",
       "  {'description': 'Valine',\n",
       "   'group': 'Amino Acids',\n",
       "   'units': 'g',\n",
       "   'value': 1.682},\n",
       "  {'description': 'Arginine',\n",
       "   'group': 'Amino Acids',\n",
       "   'units': 'g',\n",
       "   'value': 0.952},\n",
       "  {'description': 'Histidine',\n",
       "   'group': 'Amino Acids',\n",
       "   'units': 'g',\n",
       "   'value': 0.884},\n",
       "  {'description': 'Alanine',\n",
       "   'group': 'Amino Acids',\n",
       "   'units': 'g',\n",
       "   'value': 0.711},\n",
       "  {'description': 'Aspartic acid',\n",
       "   'group': 'Amino Acids',\n",
       "   'units': 'g',\n",
       "   'value': 1.618},\n",
       "  {'description': 'Glutamic acid',\n",
       "   'group': 'Amino Acids',\n",
       "   'units': 'g',\n",
       "   'value': 6.16},\n",
       "  {'description': 'Glycine',\n",
       "   'group': 'Amino Acids',\n",
       "   'units': 'g',\n",
       "   'value': 0.439},\n",
       "  {'description': 'Proline',\n",
       "   'group': 'Amino Acids',\n",
       "   'units': 'g',\n",
       "   'value': 2.838},\n",
       "  {'description': 'Serine',\n",
       "   'group': 'Amino Acids',\n",
       "   'units': 'g',\n",
       "   'value': 1.472},\n",
       "  {'description': 'Protein',\n",
       "   'group': 'Composition',\n",
       "   'units': 'g',\n",
       "   'value': 25.18},\n",
       "  {'description': 'Total lipid (fat)',\n",
       "   'group': 'Composition',\n",
       "   'units': 'g',\n",
       "   'value': 29.2},\n",
       "  {'description': 'Carbohydrate, by difference',\n",
       "   'group': 'Composition',\n",
       "   'units': 'g',\n",
       "   'value': 3.06},\n",
       "  {'description': 'Ash', 'group': 'Other', 'units': 'g', 'value': 3.28},\n",
       "  {'description': 'Energy',\n",
       "   'group': 'Energy',\n",
       "   'units': 'kcal',\n",
       "   'value': 376.0},\n",
       "  {'description': 'Water',\n",
       "   'group': 'Composition',\n",
       "   'units': 'g',\n",
       "   'value': 39.28},\n",
       "  {'description': 'Energy', 'group': 'Energy', 'units': 'kJ', 'value': 1573.0},\n",
       "  {'description': 'Fiber, total dietary',\n",
       "   'group': 'Composition',\n",
       "   'units': 'g',\n",
       "   'value': 0.0},\n",
       "  {'description': 'Calcium, Ca',\n",
       "   'group': 'Elements',\n",
       "   'units': 'mg',\n",
       "   'value': 673.0},\n",
       "  {'description': 'Iron, Fe',\n",
       "   'group': 'Elements',\n",
       "   'units': 'mg',\n",
       "   'value': 0.64},\n",
       "  {'description': 'Magnesium, Mg',\n",
       "   'group': 'Elements',\n",
       "   'units': 'mg',\n",
       "   'value': 22.0},\n",
       "  {'description': 'Phosphorus, P',\n",
       "   'group': 'Elements',\n",
       "   'units': 'mg',\n",
       "   'value': 490.0},\n",
       "  {'description': 'Potassium, K',\n",
       "   'group': 'Elements',\n",
       "   'units': 'mg',\n",
       "   'value': 93.0},\n",
       "  {'description': 'Sodium, Na',\n",
       "   'group': 'Elements',\n",
       "   'units': 'mg',\n",
       "   'value': 690.0},\n",
       "  {'description': 'Zinc, Zn',\n",
       "   'group': 'Elements',\n",
       "   'units': 'mg',\n",
       "   'value': 2.94},\n",
       "  {'description': 'Copper, Cu',\n",
       "   'group': 'Elements',\n",
       "   'units': 'mg',\n",
       "   'value': 0.024},\n",
       "  {'description': 'Manganese, Mn',\n",
       "   'group': 'Elements',\n",
       "   'units': 'mg',\n",
       "   'value': 0.021},\n",
       "  {'description': 'Selenium, Se',\n",
       "   'group': 'Elements',\n",
       "   'units': 'mcg',\n",
       "   'value': 14.5},\n",
       "  {'description': 'Vitamin A, IU',\n",
       "   'group': 'Vitamins',\n",
       "   'units': 'IU',\n",
       "   'value': 1054.0},\n",
       "  {'description': 'Retinol',\n",
       "   'group': 'Vitamins',\n",
       "   'units': 'mcg',\n",
       "   'value': 262.0},\n",
       "  {'description': 'Vitamin A, RAE',\n",
       "   'group': 'Vitamins',\n",
       "   'units': 'mcg_RAE',\n",
       "   'value': 271.0},\n",
       "  {'description': 'Vitamin C, total ascorbic acid',\n",
       "   'group': 'Vitamins',\n",
       "   'units': 'mg',\n",
       "   'value': 0.0},\n",
       "  {'description': 'Thiamin',\n",
       "   'group': 'Vitamins',\n",
       "   'units': 'mg',\n",
       "   'value': 0.031},\n",
       "  {'description': 'Riboflavin',\n",
       "   'group': 'Vitamins',\n",
       "   'units': 'mg',\n",
       "   'value': 0.45},\n",
       "  {'description': 'Niacin', 'group': 'Vitamins', 'units': 'mg', 'value': 0.18},\n",
       "  {'description': 'Pantothenic acid',\n",
       "   'group': 'Vitamins',\n",
       "   'units': 'mg',\n",
       "   'value': 0.19},\n",
       "  {'description': 'Vitamin B-6',\n",
       "   'group': 'Vitamins',\n",
       "   'units': 'mg',\n",
       "   'value': 0.074},\n",
       "  {'description': 'Folate, total',\n",
       "   'group': 'Vitamins',\n",
       "   'units': 'mcg',\n",
       "   'value': 18.0},\n",
       "  {'description': 'Vitamin B-12',\n",
       "   'group': 'Vitamins',\n",
       "   'units': 'mcg',\n",
       "   'value': 0.27},\n",
       "  {'description': 'Folic acid',\n",
       "   'group': 'Vitamins',\n",
       "   'units': 'mcg',\n",
       "   'value': 0.0},\n",
       "  {'description': 'Folate, food',\n",
       "   'group': 'Vitamins',\n",
       "   'units': 'mcg',\n",
       "   'value': 18.0},\n",
       "  {'description': 'Folate, DFE',\n",
       "   'group': 'Vitamins',\n",
       "   'units': 'mcg_DFE',\n",
       "   'value': 18.0},\n",
       "  {'description': 'Tryptophan',\n",
       "   'group': 'Amino Acids',\n",
       "   'units': 'g',\n",
       "   'value': 0.324},\n",
       "  {'description': 'Threonine',\n",
       "   'group': 'Amino Acids',\n",
       "   'units': 'g',\n",
       "   'value': 0.896},\n",
       "  {'description': 'Isoleucine',\n",
       "   'group': 'Amino Acids',\n",
       "   'units': 'g',\n",
       "   'value': 1.563},\n",
       "  {'description': 'Leucine',\n",
       "   'group': 'Amino Acids',\n",
       "   'units': 'g',\n",
       "   'value': 2.412},\n",
       "  {'description': 'Lysine',\n",
       "   'group': 'Amino Acids',\n",
       "   'units': 'g',\n",
       "   'value': 2.095},\n",
       "  {'description': 'Methionine',\n",
       "   'group': 'Amino Acids',\n",
       "   'units': 'g',\n",
       "   'value': 0.659},\n",
       "  {'description': 'Cystine',\n",
       "   'group': 'Amino Acids',\n",
       "   'units': 'g',\n",
       "   'value': 0.126},\n",
       "  {'description': 'Phenylalanine',\n",
       "   'group': 'Amino Acids',\n",
       "   'units': 'g',\n",
       "   'value': 1.326},\n",
       "  {'description': 'Tyrosine',\n",
       "   'group': 'Amino Acids',\n",
       "   'units': 'g',\n",
       "   'value': 1.216},\n",
       "  {'description': 'Valine',\n",
       "   'group': 'Amino Acids',\n",
       "   'units': 'g',\n",
       "   'value': 1.682},\n",
       "  {'description': 'Arginine',\n",
       "   'group': 'Amino Acids',\n",
       "   'units': 'g',\n",
       "   'value': 0.952},\n",
       "  {'description': 'Histidine',\n",
       "   'group': 'Amino Acids',\n",
       "   'units': 'g',\n",
       "   'value': 0.884},\n",
       "  {'description': 'Alanine',\n",
       "   'group': 'Amino Acids',\n",
       "   'units': 'g',\n",
       "   'value': 0.711},\n",
       "  {'description': 'Aspartic acid',\n",
       "   'group': 'Amino Acids',\n",
       "   'units': 'g',\n",
       "   'value': 1.618},\n",
       "  {'description': 'Glutamic acid',\n",
       "   'group': 'Amino Acids',\n",
       "   'units': 'g',\n",
       "   'value': 6.16},\n",
       "  {'description': 'Glycine',\n",
       "   'group': 'Amino Acids',\n",
       "   'units': 'g',\n",
       "   'value': 0.439},\n",
       "  {'description': 'Proline',\n",
       "   'group': 'Amino Acids',\n",
       "   'units': 'g',\n",
       "   'value': 2.838},\n",
       "  {'description': 'Serine',\n",
       "   'group': 'Amino Acids',\n",
       "   'units': 'g',\n",
       "   'value': 1.472},\n",
       "  {'description': 'Cholesterol',\n",
       "   'group': 'Other',\n",
       "   'units': 'mg',\n",
       "   'value': 93.0},\n",
       "  {'description': 'Fatty acids, total saturated',\n",
       "   'group': 'Other',\n",
       "   'units': 'g',\n",
       "   'value': 18.584},\n",
       "  {'description': 'Fatty acids, total monounsaturated',\n",
       "   'group': 'Other',\n",
       "   'units': 'g',\n",
       "   'value': 8.275},\n",
       "  {'description': 'Fatty acids, total polyunsaturated',\n",
       "   'group': 'Other',\n",
       "   'units': 'g',\n",
       "   'value': 0.83},\n",
       "  {'description': 'Protein',\n",
       "   'group': 'Composition',\n",
       "   'units': 'g',\n",
       "   'value': 25.18},\n",
       "  {'description': 'Total lipid (fat)',\n",
       "   'group': 'Composition',\n",
       "   'units': 'g',\n",
       "   'value': 29.2},\n",
       "  {'description': 'Carbohydrate, by difference',\n",
       "   'group': 'Composition',\n",
       "   'units': 'g',\n",
       "   'value': 3.06},\n",
       "  {'description': 'Ash', 'group': 'Other', 'units': 'g', 'value': 3.28},\n",
       "  {'description': 'Energy',\n",
       "   'group': 'Energy',\n",
       "   'units': 'kcal',\n",
       "   'value': 376.0},\n",
       "  {'description': 'Water',\n",
       "   'group': 'Composition',\n",
       "   'units': 'g',\n",
       "   'value': 39.28},\n",
       "  {'description': 'Energy', 'group': 'Energy', 'units': 'kJ', 'value': 1573.0},\n",
       "  {'description': 'Fiber, total dietary',\n",
       "   'group': 'Composition',\n",
       "   'units': 'g',\n",
       "   'value': 0.0},\n",
       "  {'description': 'Calcium, Ca',\n",
       "   'group': 'Elements',\n",
       "   'units': 'mg',\n",
       "   'value': 673.0},\n",
       "  {'description': 'Iron, Fe',\n",
       "   'group': 'Elements',\n",
       "   'units': 'mg',\n",
       "   'value': 0.64},\n",
       "  {'description': 'Magnesium, Mg',\n",
       "   'group': 'Elements',\n",
       "   'units': 'mg',\n",
       "   'value': 22.0},\n",
       "  {'description': 'Phosphorus, P',\n",
       "   'group': 'Elements',\n",
       "   'units': 'mg',\n",
       "   'value': 490.0},\n",
       "  {'description': 'Potassium, K',\n",
       "   'group': 'Elements',\n",
       "   'units': 'mg',\n",
       "   'value': 93.0},\n",
       "  {'description': 'Sodium, Na',\n",
       "   'group': 'Elements',\n",
       "   'units': 'mg',\n",
       "   'value': 690.0},\n",
       "  {'description': 'Zinc, Zn',\n",
       "   'group': 'Elements',\n",
       "   'units': 'mg',\n",
       "   'value': 2.94},\n",
       "  {'description': 'Copper, Cu',\n",
       "   'group': 'Elements',\n",
       "   'units': 'mg',\n",
       "   'value': 0.024},\n",
       "  {'description': 'Manganese, Mn',\n",
       "   'group': 'Elements',\n",
       "   'units': 'mg',\n",
       "   'value': 0.021},\n",
       "  {'description': 'Selenium, Se',\n",
       "   'group': 'Elements',\n",
       "   'units': 'mcg',\n",
       "   'value': 14.5},\n",
       "  {'description': 'Vitamin A, IU',\n",
       "   'group': 'Vitamins',\n",
       "   'units': 'IU',\n",
       "   'value': 1054.0},\n",
       "  {'description': 'Retinol',\n",
       "   'group': 'Vitamins',\n",
       "   'units': 'mcg',\n",
       "   'value': 262.0},\n",
       "  {'description': 'Vitamin A, RAE',\n",
       "   'group': 'Vitamins',\n",
       "   'units': 'mcg_RAE',\n",
       "   'value': 271.0},\n",
       "  {'description': 'Vitamin C, total ascorbic acid',\n",
       "   'group': 'Vitamins',\n",
       "   'units': 'mg',\n",
       "   'value': 0.0},\n",
       "  {'description': 'Thiamin',\n",
       "   'group': 'Vitamins',\n",
       "   'units': 'mg',\n",
       "   'value': 0.031},\n",
       "  {'description': 'Riboflavin',\n",
       "   'group': 'Vitamins',\n",
       "   'units': 'mg',\n",
       "   'value': 0.45},\n",
       "  {'description': 'Niacin', 'group': 'Vitamins', 'units': 'mg', 'value': 0.18},\n",
       "  {'description': 'Pantothenic acid',\n",
       "   'group': 'Vitamins',\n",
       "   'units': 'mg',\n",
       "   'value': 0.19},\n",
       "  {'description': 'Vitamin B-6',\n",
       "   'group': 'Vitamins',\n",
       "   'units': 'mg',\n",
       "   'value': 0.074},\n",
       "  {'description': 'Folate, total',\n",
       "   'group': 'Vitamins',\n",
       "   'units': 'mcg',\n",
       "   'value': 18.0},\n",
       "  {'description': 'Vitamin B-12',\n",
       "   'group': 'Vitamins',\n",
       "   'units': 'mcg',\n",
       "   'value': 0.27},\n",
       "  {'description': 'Folic acid',\n",
       "   'group': 'Vitamins',\n",
       "   'units': 'mcg',\n",
       "   'value': 0.0},\n",
       "  {'description': 'Folate, food',\n",
       "   'group': 'Vitamins',\n",
       "   'units': 'mcg',\n",
       "   'value': 18.0},\n",
       "  {'description': 'Folate, DFE',\n",
       "   'group': 'Vitamins',\n",
       "   'units': 'mcg_DFE',\n",
       "   'value': 18.0},\n",
       "  {'description': 'Tryptophan',\n",
       "   'group': 'Amino Acids',\n",
       "   'units': 'g',\n",
       "   'value': 0.324},\n",
       "  {'description': 'Threonine',\n",
       "   'group': 'Amino Acids',\n",
       "   'units': 'g',\n",
       "   'value': 0.896},\n",
       "  {'description': 'Isoleucine',\n",
       "   'group': 'Amino Acids',\n",
       "   'units': 'g',\n",
       "   'value': 1.563},\n",
       "  {'description': 'Leucine',\n",
       "   'group': 'Amino Acids',\n",
       "   'units': 'g',\n",
       "   'value': 2.412},\n",
       "  {'description': 'Lysine',\n",
       "   'group': 'Amino Acids',\n",
       "   'units': 'g',\n",
       "   'value': 2.095},\n",
       "  {'description': 'Methionine',\n",
       "   'group': 'Amino Acids',\n",
       "   'units': 'g',\n",
       "   'value': 0.659},\n",
       "  {'description': 'Cystine',\n",
       "   'group': 'Amino Acids',\n",
       "   'units': 'g',\n",
       "   'value': 0.126},\n",
       "  {'description': 'Phenylalanine',\n",
       "   'group': 'Amino Acids',\n",
       "   'units': 'g',\n",
       "   'value': 1.326},\n",
       "  {'description': 'Tyrosine',\n",
       "   'group': 'Amino Acids',\n",
       "   'units': 'g',\n",
       "   'value': 1.216},\n",
       "  {'description': 'Valine',\n",
       "   'group': 'Amino Acids',\n",
       "   'units': 'g',\n",
       "   'value': 1.682},\n",
       "  {'description': 'Arginine',\n",
       "   'group': 'Amino Acids',\n",
       "   'units': 'g',\n",
       "   'value': 0.952},\n",
       "  {'description': 'Histidine',\n",
       "   'group': 'Amino Acids',\n",
       "   'units': 'g',\n",
       "   'value': 0.884},\n",
       "  {'description': 'Alanine',\n",
       "   'group': 'Amino Acids',\n",
       "   'units': 'g',\n",
       "   'value': 0.711},\n",
       "  {'description': 'Aspartic acid',\n",
       "   'group': 'Amino Acids',\n",
       "   'units': 'g',\n",
       "   'value': 1.618},\n",
       "  {'description': 'Glutamic acid',\n",
       "   'group': 'Amino Acids',\n",
       "   'units': 'g',\n",
       "   'value': 6.16},\n",
       "  {'description': 'Glycine',\n",
       "   'group': 'Amino Acids',\n",
       "   'units': 'g',\n",
       "   'value': 0.439},\n",
       "  {'description': 'Proline',\n",
       "   'group': 'Amino Acids',\n",
       "   'units': 'g',\n",
       "   'value': 2.838},\n",
       "  {'description': 'Serine',\n",
       "   'group': 'Amino Acids',\n",
       "   'units': 'g',\n",
       "   'value': 1.472},\n",
       "  {'description': 'Cholesterol',\n",
       "   'group': 'Other',\n",
       "   'units': 'mg',\n",
       "   'value': 93.0},\n",
       "  {'description': 'Fatty acids, total saturated',\n",
       "   'group': 'Other',\n",
       "   'units': 'g',\n",
       "   'value': 18.584},\n",
       "  {'description': 'Fatty acids, total monounsaturated',\n",
       "   'group': 'Other',\n",
       "   'units': 'g',\n",
       "   'value': 8.275},\n",
       "  {'description': 'Fatty acids, total polyunsaturated',\n",
       "   'group': 'Other',\n",
       "   'units': 'g',\n",
       "   'value': 0.83}],\n",
       " 'portions': [{'amount': 1, 'grams': 28.35, 'unit': 'oz'}],\n",
       " 'tags': []}"
      ]
     },
     "execution_count": 5,
     "metadata": {},
     "output_type": "execute_result"
    }
   ],
   "source": [
    "db[0]"
   ]
  },
  {
   "cell_type": "code",
   "execution_count": 6,
   "metadata": {},
   "outputs": [
    {
     "data": {
      "text/plain": [
       "{'description': 'Protein',\n",
       " 'group': 'Composition',\n",
       " 'units': 'g',\n",
       " 'value': 25.18}"
      ]
     },
     "execution_count": 6,
     "metadata": {},
     "output_type": "execute_result"
    }
   ],
   "source": [
    "db[0]['nutrients'][0]"
   ]
  },
  {
   "cell_type": "code",
   "execution_count": 7,
   "metadata": {},
   "outputs": [],
   "source": [
    "nutrients = pd.DataFrame(db[0]['nutrients'])"
   ]
  },
  {
   "cell_type": "code",
   "execution_count": 8,
   "metadata": {},
   "outputs": [
    {
     "data": {
      "text/html": [
       "<div>\n",
       "<style scoped>\n",
       "    .dataframe tbody tr th:only-of-type {\n",
       "        vertical-align: middle;\n",
       "    }\n",
       "\n",
       "    .dataframe tbody tr th {\n",
       "        vertical-align: top;\n",
       "    }\n",
       "\n",
       "    .dataframe thead th {\n",
       "        text-align: right;\n",
       "    }\n",
       "</style>\n",
       "<table border=\"1\" class=\"dataframe\">\n",
       "  <thead>\n",
       "    <tr style=\"text-align: right;\">\n",
       "      <th></th>\n",
       "      <th>description</th>\n",
       "      <th>group</th>\n",
       "      <th>units</th>\n",
       "      <th>value</th>\n",
       "    </tr>\n",
       "  </thead>\n",
       "  <tbody>\n",
       "    <tr>\n",
       "      <th>0</th>\n",
       "      <td>Protein</td>\n",
       "      <td>Composition</td>\n",
       "      <td>g</td>\n",
       "      <td>25.18</td>\n",
       "    </tr>\n",
       "    <tr>\n",
       "      <th>1</th>\n",
       "      <td>Total lipid (fat)</td>\n",
       "      <td>Composition</td>\n",
       "      <td>g</td>\n",
       "      <td>29.20</td>\n",
       "    </tr>\n",
       "    <tr>\n",
       "      <th>2</th>\n",
       "      <td>Carbohydrate, by difference</td>\n",
       "      <td>Composition</td>\n",
       "      <td>g</td>\n",
       "      <td>3.06</td>\n",
       "    </tr>\n",
       "    <tr>\n",
       "      <th>3</th>\n",
       "      <td>Ash</td>\n",
       "      <td>Other</td>\n",
       "      <td>g</td>\n",
       "      <td>3.28</td>\n",
       "    </tr>\n",
       "    <tr>\n",
       "      <th>4</th>\n",
       "      <td>Energy</td>\n",
       "      <td>Energy</td>\n",
       "      <td>kcal</td>\n",
       "      <td>376.00</td>\n",
       "    </tr>\n",
       "  </tbody>\n",
       "</table>\n",
       "</div>"
      ],
      "text/plain": [
       "                   description        group units   value\n",
       "0                      Protein  Composition     g   25.18\n",
       "1            Total lipid (fat)  Composition     g   29.20\n",
       "2  Carbohydrate, by difference  Composition     g    3.06\n",
       "3                          Ash        Other     g    3.28\n",
       "4                       Energy       Energy  kcal  376.00"
      ]
     },
     "execution_count": 8,
     "metadata": {},
     "output_type": "execute_result"
    }
   ],
   "source": [
    "nutrients.head()"
   ]
  },
  {
   "cell_type": "code",
   "execution_count": 9,
   "metadata": {},
   "outputs": [],
   "source": [
    "info_keys = ['description', 'group', 'id', 'manufacturer']\n",
    "info = pd.DataFrame(db, columns = info_keys)"
   ]
  },
  {
   "cell_type": "code",
   "execution_count": 10,
   "metadata": {},
   "outputs": [
    {
     "name": "stdout",
     "output_type": "stream",
     "text": [
      "<class 'pandas.core.frame.DataFrame'>\n",
      "RangeIndex: 6636 entries, 0 to 6635\n",
      "Data columns (total 4 columns):\n",
      "description     6636 non-null object\n",
      "group           6636 non-null object\n",
      "id              6636 non-null int64\n",
      "manufacturer    5195 non-null object\n",
      "dtypes: int64(1), object(3)\n",
      "memory usage: 207.5+ KB\n"
     ]
    }
   ],
   "source": [
    "info.info()"
   ]
  },
  {
   "cell_type": "code",
   "execution_count": 11,
   "metadata": {},
   "outputs": [
    {
     "data": {
      "text/plain": [
       "Vegetables and Vegetable Products    812\n",
       "Beef Products                        618\n",
       "Baked Products                       496\n",
       "Breakfast Cereals                    403\n",
       "Legumes and Legume Products          365\n",
       "Fast Foods                           365\n",
       "Lamb, Veal, and Game Products        345\n",
       "Sweets                               341\n",
       "Pork Products                        328\n",
       "Fruits and Fruit Juices              328\n",
       "Name: group, dtype: int64"
      ]
     },
     "execution_count": 11,
     "metadata": {},
     "output_type": "execute_result"
    }
   ],
   "source": [
    "pd.value_counts(info.group)[:10]"
   ]
  },
  {
   "cell_type": "code",
   "execution_count": 12,
   "metadata": {},
   "outputs": [],
   "source": [
    "nutrient = []\n",
    "\n",
    "for rec in db:\n",
    "    fnuts = pd.DataFrame(rec['nutrients'])\n",
    "    fnuts['id'] = rec['id']\n",
    "    nutrient.append(fnuts)\n",
    "    \n",
    "nutrients = pd.concat(nutrient, ignore_index = True)"
   ]
  },
  {
   "cell_type": "code",
   "execution_count": 13,
   "metadata": {},
   "outputs": [
    {
     "data": {
      "text/html": [
       "<div>\n",
       "<style scoped>\n",
       "    .dataframe tbody tr th:only-of-type {\n",
       "        vertical-align: middle;\n",
       "    }\n",
       "\n",
       "    .dataframe tbody tr th {\n",
       "        vertical-align: top;\n",
       "    }\n",
       "\n",
       "    .dataframe thead th {\n",
       "        text-align: right;\n",
       "    }\n",
       "</style>\n",
       "<table border=\"1\" class=\"dataframe\">\n",
       "  <thead>\n",
       "    <tr style=\"text-align: right;\">\n",
       "      <th></th>\n",
       "      <th>description</th>\n",
       "      <th>group</th>\n",
       "      <th>units</th>\n",
       "      <th>value</th>\n",
       "      <th>id</th>\n",
       "    </tr>\n",
       "  </thead>\n",
       "  <tbody>\n",
       "    <tr>\n",
       "      <th>0</th>\n",
       "      <td>Protein</td>\n",
       "      <td>Composition</td>\n",
       "      <td>g</td>\n",
       "      <td>25.18</td>\n",
       "      <td>1008</td>\n",
       "    </tr>\n",
       "    <tr>\n",
       "      <th>1</th>\n",
       "      <td>Total lipid (fat)</td>\n",
       "      <td>Composition</td>\n",
       "      <td>g</td>\n",
       "      <td>29.20</td>\n",
       "      <td>1008</td>\n",
       "    </tr>\n",
       "    <tr>\n",
       "      <th>2</th>\n",
       "      <td>Carbohydrate, by difference</td>\n",
       "      <td>Composition</td>\n",
       "      <td>g</td>\n",
       "      <td>3.06</td>\n",
       "      <td>1008</td>\n",
       "    </tr>\n",
       "    <tr>\n",
       "      <th>3</th>\n",
       "      <td>Ash</td>\n",
       "      <td>Other</td>\n",
       "      <td>g</td>\n",
       "      <td>3.28</td>\n",
       "      <td>1008</td>\n",
       "    </tr>\n",
       "    <tr>\n",
       "      <th>4</th>\n",
       "      <td>Energy</td>\n",
       "      <td>Energy</td>\n",
       "      <td>kcal</td>\n",
       "      <td>376.00</td>\n",
       "      <td>1008</td>\n",
       "    </tr>\n",
       "  </tbody>\n",
       "</table>\n",
       "</div>"
      ],
      "text/plain": [
       "                   description        group units   value    id\n",
       "0                      Protein  Composition     g   25.18  1008\n",
       "1            Total lipid (fat)  Composition     g   29.20  1008\n",
       "2  Carbohydrate, by difference  Composition     g    3.06  1008\n",
       "3                          Ash        Other     g    3.28  1008\n",
       "4                       Energy       Energy  kcal  376.00  1008"
      ]
     },
     "execution_count": 13,
     "metadata": {},
     "output_type": "execute_result"
    }
   ],
   "source": [
    "nutrients.head()"
   ]
  },
  {
   "cell_type": "code",
   "execution_count": 14,
   "metadata": {},
   "outputs": [
    {
     "data": {
      "text/plain": [
       "14179"
      ]
     },
     "execution_count": 14,
     "metadata": {},
     "output_type": "execute_result"
    }
   ],
   "source": [
    "nutrients.duplicated().sum()"
   ]
  },
  {
   "cell_type": "code",
   "execution_count": 15,
   "metadata": {},
   "outputs": [],
   "source": [
    "nutrients = nutrients.drop_duplicates()"
   ]
  },
  {
   "cell_type": "code",
   "execution_count": 16,
   "metadata": {},
   "outputs": [],
   "source": [
    "col_mapping = {'description': 'food',\n",
    "              'group': 'fgroup'}"
   ]
  },
  {
   "cell_type": "code",
   "execution_count": 17,
   "metadata": {},
   "outputs": [],
   "source": [
    "info = info.rename(columns = col_mapping, copy = False)"
   ]
  },
  {
   "cell_type": "code",
   "execution_count": 18,
   "metadata": {},
   "outputs": [
    {
     "name": "stdout",
     "output_type": "stream",
     "text": [
      "<class 'pandas.core.frame.DataFrame'>\n",
      "RangeIndex: 6636 entries, 0 to 6635\n",
      "Data columns (total 4 columns):\n",
      "food            6636 non-null object\n",
      "fgroup          6636 non-null object\n",
      "id              6636 non-null int64\n",
      "manufacturer    5195 non-null object\n",
      "dtypes: int64(1), object(3)\n",
      "memory usage: 207.5+ KB\n"
     ]
    }
   ],
   "source": [
    "info.info()"
   ]
  },
  {
   "cell_type": "code",
   "execution_count": 19,
   "metadata": {},
   "outputs": [],
   "source": [
    "nutrients = nutrients.rename(columns = col_mapping, copy = False)"
   ]
  },
  {
   "cell_type": "code",
   "execution_count": 20,
   "metadata": {
    "scrolled": false
   },
   "outputs": [
    {
     "data": {
      "text/html": [
       "<div>\n",
       "<style scoped>\n",
       "    .dataframe tbody tr th:only-of-type {\n",
       "        vertical-align: middle;\n",
       "    }\n",
       "\n",
       "    .dataframe tbody tr th {\n",
       "        vertical-align: top;\n",
       "    }\n",
       "\n",
       "    .dataframe thead th {\n",
       "        text-align: right;\n",
       "    }\n",
       "</style>\n",
       "<table border=\"1\" class=\"dataframe\">\n",
       "  <thead>\n",
       "    <tr style=\"text-align: right;\">\n",
       "      <th></th>\n",
       "      <th>food</th>\n",
       "      <th>fgroup</th>\n",
       "      <th>units</th>\n",
       "      <th>value</th>\n",
       "      <th>id</th>\n",
       "    </tr>\n",
       "  </thead>\n",
       "  <tbody>\n",
       "    <tr>\n",
       "      <th>0</th>\n",
       "      <td>Protein</td>\n",
       "      <td>Composition</td>\n",
       "      <td>g</td>\n",
       "      <td>25.18</td>\n",
       "      <td>1008</td>\n",
       "    </tr>\n",
       "    <tr>\n",
       "      <th>1</th>\n",
       "      <td>Total lipid (fat)</td>\n",
       "      <td>Composition</td>\n",
       "      <td>g</td>\n",
       "      <td>29.20</td>\n",
       "      <td>1008</td>\n",
       "    </tr>\n",
       "    <tr>\n",
       "      <th>2</th>\n",
       "      <td>Carbohydrate, by difference</td>\n",
       "      <td>Composition</td>\n",
       "      <td>g</td>\n",
       "      <td>3.06</td>\n",
       "      <td>1008</td>\n",
       "    </tr>\n",
       "    <tr>\n",
       "      <th>3</th>\n",
       "      <td>Ash</td>\n",
       "      <td>Other</td>\n",
       "      <td>g</td>\n",
       "      <td>3.28</td>\n",
       "      <td>1008</td>\n",
       "    </tr>\n",
       "    <tr>\n",
       "      <th>4</th>\n",
       "      <td>Energy</td>\n",
       "      <td>Energy</td>\n",
       "      <td>kcal</td>\n",
       "      <td>376.00</td>\n",
       "      <td>1008</td>\n",
       "    </tr>\n",
       "  </tbody>\n",
       "</table>\n",
       "</div>"
      ],
      "text/plain": [
       "                          food       fgroup units   value    id\n",
       "0                      Protein  Composition     g   25.18  1008\n",
       "1            Total lipid (fat)  Composition     g   29.20  1008\n",
       "2  Carbohydrate, by difference  Composition     g    3.06  1008\n",
       "3                          Ash        Other     g    3.28  1008\n",
       "4                       Energy       Energy  kcal  376.00  1008"
      ]
     },
     "execution_count": 20,
     "metadata": {},
     "output_type": "execute_result"
    }
   ],
   "source": [
    "nutrients.head()"
   ]
  },
  {
   "cell_type": "code",
   "execution_count": 21,
   "metadata": {},
   "outputs": [],
   "source": [
    "ndata = pd.merge(nutrients, info, on = 'id', how = 'outer')"
   ]
  },
  {
   "cell_type": "code",
   "execution_count": null,
   "metadata": {},
   "outputs": [],
   "source": []
  },
  {
   "cell_type": "code",
   "execution_count": null,
   "metadata": {},
   "outputs": [],
   "source": []
  },
  {
   "cell_type": "code",
   "execution_count": null,
   "metadata": {},
   "outputs": [],
   "source": []
  },
  {
   "cell_type": "code",
   "execution_count": null,
   "metadata": {},
   "outputs": [],
   "source": []
  },
  {
   "cell_type": "code",
   "execution_count": null,
   "metadata": {},
   "outputs": [],
   "source": []
  },
  {
   "cell_type": "markdown",
   "metadata": {},
   "source": [
    "# Practicing Scraping\n",
    "\n"
   ]
  },
  {
   "cell_type": "code",
   "execution_count": 22,
   "metadata": {},
   "outputs": [],
   "source": [
    "import pandas as pd"
   ]
  },
  {
   "cell_type": "code",
   "execution_count": 23,
   "metadata": {},
   "outputs": [],
   "source": [
    "import requests"
   ]
  },
  {
   "cell_type": "code",
   "execution_count": 24,
   "metadata": {},
   "outputs": [],
   "source": [
    "from bs4 import BeautifulSoup"
   ]
  },
  {
   "cell_type": "code",
   "execution_count": 25,
   "metadata": {},
   "outputs": [],
   "source": [
    "mta = requests.get('http://web.mta.info/status/ServiceStatusSubway.xml')"
   ]
  },
  {
   "cell_type": "code",
   "execution_count": 26,
   "metadata": {},
   "outputs": [
    {
     "data": {
      "text/plain": [
       "<Response [200]>"
      ]
     },
     "execution_count": 26,
     "metadata": {},
     "output_type": "execute_result"
    }
   ],
   "source": [
    "mta"
   ]
  },
  {
   "cell_type": "code",
   "execution_count": 27,
   "metadata": {},
   "outputs": [
    {
     "data": {
      "text/plain": [
       "'<?xml version=\"1.0\" encoding=\"UTF-8\" standalone=\"yes\" ?><Siri xmlns:ns2=\"http://www.ifopt.org.uk/acs'"
      ]
     },
     "execution_count": 27,
     "metadata": {},
     "output_type": "execute_result"
    }
   ],
   "source": [
    "mta.text[:100]"
   ]
  },
  {
   "cell_type": "code",
   "execution_count": 28,
   "metadata": {},
   "outputs": [],
   "source": [
    "soup = BeautifulSoup(mta.text, \"lxml\")"
   ]
  },
  {
   "cell_type": "code",
   "execution_count": 29,
   "metadata": {
    "scrolled": false
   },
   "outputs": [
    {
     "data": {
      "text/html": [
       "soup"
      ],
      "text/plain": [
       "<IPython.core.display.HTML object>"
      ]
     },
     "metadata": {},
     "output_type": "display_data"
    }
   ],
   "source": [
    "%%html\n",
    "soup"
   ]
  },
  {
   "cell_type": "code",
   "execution_count": 30,
   "metadata": {},
   "outputs": [
    {
     "data": {
      "text/plain": [
       "'Some Hudson Yard bound [7] local trains are running express from Mets-Willets Pt to Queensboro Plaza because of signal problems at 74 St.'"
      ]
     },
     "execution_count": 30,
     "metadata": {},
     "output_type": "execute_result"
    }
   ],
   "source": [
    "soup.find('summary').text"
   ]
  },
  {
   "cell_type": "code",
   "execution_count": 31,
   "metadata": {},
   "outputs": [
    {
     "data": {
      "text/plain": [
       "'<P>[7] trains are running with delays in both directions.</P>\\r\\n<P>Some Hudson Yard bound [7] local trains are running express from <STRONG>Mets-Willets Point </STRONG>to <STRONG>Queensboro Plaza</STRONG> </P>\\r\\n<P>These service changes are because of signal problems at <STRONG>74 St-Broadway</STRONG>. </P>'"
      ]
     },
     "execution_count": 31,
     "metadata": {},
     "output_type": "execute_result"
    }
   ],
   "source": [
    "soup.find('longdescription').text"
   ]
  },
  {
   "cell_type": "code",
   "execution_count": 32,
   "metadata": {},
   "outputs": [
    {
     "data": {
      "text/plain": [
       "<longdescription>&lt;P&gt;[7] trains are running with delays in both directions.&lt;/P&gt;\n",
       "&lt;P&gt;Some Hudson Yard bound [7] local trains are running express from &lt;STRONG&gt;Mets-Willets Point &lt;/STRONG&gt;to &lt;STRONG&gt;Queensboro Plaza&lt;/STRONG&gt; &lt;/P&gt;\n",
       "&lt;P&gt;These service changes are because of signal problems at &lt;STRONG&gt;74 St-Broadway&lt;/STRONG&gt;. &lt;/P&gt;</longdescription>"
      ]
     },
     "execution_count": 32,
     "metadata": {},
     "output_type": "execute_result"
    }
   ],
   "source": [
    "soup.find('longdescription')"
   ]
  },
  {
   "cell_type": "code",
   "execution_count": null,
   "metadata": {},
   "outputs": [],
   "source": []
  },
  {
   "cell_type": "code",
   "execution_count": null,
   "metadata": {},
   "outputs": [],
   "source": []
  },
  {
   "cell_type": "code",
   "execution_count": null,
   "metadata": {},
   "outputs": [],
   "source": []
  },
  {
   "cell_type": "code",
   "execution_count": null,
   "metadata": {},
   "outputs": [],
   "source": []
  },
  {
   "cell_type": "code",
   "execution_count": null,
   "metadata": {},
   "outputs": [],
   "source": []
  },
  {
   "cell_type": "code",
   "execution_count": null,
   "metadata": {},
   "outputs": [],
   "source": []
  },
  {
   "cell_type": "code",
   "execution_count": null,
   "metadata": {},
   "outputs": [],
   "source": []
  },
  {
   "cell_type": "code",
   "execution_count": null,
   "metadata": {},
   "outputs": [],
   "source": []
  },
  {
   "cell_type": "code",
   "execution_count": null,
   "metadata": {},
   "outputs": [],
   "source": []
  },
  {
   "cell_type": "markdown",
   "metadata": {},
   "source": [
    "### GitHub\n",
    "\n",
    "https://api.github.com/repositories/858127/milestones/28/labels"
   ]
  },
  {
   "cell_type": "code",
   "execution_count": 33,
   "metadata": {},
   "outputs": [],
   "source": [
    "url = 'https://api.github.com/repositories/858127/milestones/28/labels'"
   ]
  },
  {
   "cell_type": "code",
   "execution_count": 34,
   "metadata": {},
   "outputs": [],
   "source": [
    "import requests"
   ]
  },
  {
   "cell_type": "code",
   "execution_count": 35,
   "metadata": {},
   "outputs": [],
   "source": [
    "req = requests.get('https://api.github.com/repositories/858127/milestones/28/labels')"
   ]
  },
  {
   "cell_type": "code",
   "execution_count": 36,
   "metadata": {},
   "outputs": [
    {
     "data": {
      "text/plain": [
       "<Response [200]>"
      ]
     },
     "execution_count": 36,
     "metadata": {},
     "output_type": "execute_result"
    }
   ],
   "source": [
    "req"
   ]
  },
  {
   "cell_type": "code",
   "execution_count": 37,
   "metadata": {},
   "outputs": [],
   "source": [
    "data = req.json()"
   ]
  },
  {
   "cell_type": "code",
   "execution_count": 38,
   "metadata": {},
   "outputs": [
    {
     "data": {
      "text/plain": [
       "[{'color': 'e10c02',\n",
       "  'default': False,\n",
       "  'id': 76811,\n",
       "  'name': 'Bug',\n",
       "  'url': 'https://api.github.com/repos/pandas-dev/pandas/labels/Bug'},\n",
       " {'color': '4E9A06',\n",
       "  'default': False,\n",
       "  'id': 76812,\n",
       "  'name': 'Enhancement',\n",
       "  'url': 'https://api.github.com/repos/pandas-dev/pandas/labels/Enhancement'},\n",
       " {'color': 'FCE94F',\n",
       "  'default': False,\n",
       "  'id': 127681,\n",
       "  'name': 'Refactor',\n",
       "  'url': 'https://api.github.com/repos/pandas-dev/pandas/labels/Refactor'},\n",
       " {'color': '75507B',\n",
       "  'default': False,\n",
       "  'id': 129350,\n",
       "  'name': 'Build',\n",
       "  'url': 'https://api.github.com/repos/pandas-dev/pandas/labels/Build'},\n",
       " {'color': '3465A4',\n",
       "  'default': False,\n",
       "  'id': 134699,\n",
       "  'name': 'Docs',\n",
       "  'url': 'https://api.github.com/repos/pandas-dev/pandas/labels/Docs'}]"
      ]
     },
     "execution_count": 38,
     "metadata": {},
     "output_type": "execute_result"
    }
   ],
   "source": [
    "data[:5]"
   ]
  },
  {
   "cell_type": "code",
   "execution_count": 39,
   "metadata": {},
   "outputs": [],
   "source": [
    "issue_labels = pd.DataFrame(data)"
   ]
  },
  {
   "cell_type": "code",
   "execution_count": 40,
   "metadata": {},
   "outputs": [
    {
     "data": {
      "text/html": [
       "<div>\n",
       "<style scoped>\n",
       "    .dataframe tbody tr th:only-of-type {\n",
       "        vertical-align: middle;\n",
       "    }\n",
       "\n",
       "    .dataframe tbody tr th {\n",
       "        vertical-align: top;\n",
       "    }\n",
       "\n",
       "    .dataframe thead th {\n",
       "        text-align: right;\n",
       "    }\n",
       "</style>\n",
       "<table border=\"1\" class=\"dataframe\">\n",
       "  <thead>\n",
       "    <tr style=\"text-align: right;\">\n",
       "      <th></th>\n",
       "      <th>color</th>\n",
       "      <th>default</th>\n",
       "      <th>id</th>\n",
       "      <th>name</th>\n",
       "      <th>url</th>\n",
       "    </tr>\n",
       "  </thead>\n",
       "  <tbody>\n",
       "    <tr>\n",
       "      <th>0</th>\n",
       "      <td>e10c02</td>\n",
       "      <td>False</td>\n",
       "      <td>76811</td>\n",
       "      <td>Bug</td>\n",
       "      <td>https://api.github.com/repos/pandas-dev/pandas...</td>\n",
       "    </tr>\n",
       "    <tr>\n",
       "      <th>1</th>\n",
       "      <td>4E9A06</td>\n",
       "      <td>False</td>\n",
       "      <td>76812</td>\n",
       "      <td>Enhancement</td>\n",
       "      <td>https://api.github.com/repos/pandas-dev/pandas...</td>\n",
       "    </tr>\n",
       "    <tr>\n",
       "      <th>2</th>\n",
       "      <td>FCE94F</td>\n",
       "      <td>False</td>\n",
       "      <td>127681</td>\n",
       "      <td>Refactor</td>\n",
       "      <td>https://api.github.com/repos/pandas-dev/pandas...</td>\n",
       "    </tr>\n",
       "    <tr>\n",
       "      <th>3</th>\n",
       "      <td>75507B</td>\n",
       "      <td>False</td>\n",
       "      <td>129350</td>\n",
       "      <td>Build</td>\n",
       "      <td>https://api.github.com/repos/pandas-dev/pandas...</td>\n",
       "    </tr>\n",
       "    <tr>\n",
       "      <th>4</th>\n",
       "      <td>3465A4</td>\n",
       "      <td>False</td>\n",
       "      <td>134699</td>\n",
       "      <td>Docs</td>\n",
       "      <td>https://api.github.com/repos/pandas-dev/pandas...</td>\n",
       "    </tr>\n",
       "  </tbody>\n",
       "</table>\n",
       "</div>"
      ],
      "text/plain": [
       "    color  default      id         name  \\\n",
       "0  e10c02    False   76811          Bug   \n",
       "1  4E9A06    False   76812  Enhancement   \n",
       "2  FCE94F    False  127681     Refactor   \n",
       "3  75507B    False  129350        Build   \n",
       "4  3465A4    False  134699         Docs   \n",
       "\n",
       "                                                 url  \n",
       "0  https://api.github.com/repos/pandas-dev/pandas...  \n",
       "1  https://api.github.com/repos/pandas-dev/pandas...  \n",
       "2  https://api.github.com/repos/pandas-dev/pandas...  \n",
       "3  https://api.github.com/repos/pandas-dev/pandas...  \n",
       "4  https://api.github.com/repos/pandas-dev/pandas...  "
      ]
     },
     "execution_count": 40,
     "metadata": {},
     "output_type": "execute_result"
    }
   ],
   "source": [
    "issue_labels.head()"
   ]
  },
  {
   "cell_type": "code",
   "execution_count": 41,
   "metadata": {},
   "outputs": [
    {
     "data": {
      "text/plain": [
       "color                                                 06909A\n",
       "default                                                False\n",
       "id                                                   2301354\n",
       "name                                                 Data IO\n",
       "url        https://api.github.com/repos/pandas-dev/pandas...\n",
       "Name: 7, dtype: object"
      ]
     },
     "execution_count": 41,
     "metadata": {},
     "output_type": "execute_result"
    }
   ],
   "source": [
    "issue_labels.iloc[7]"
   ]
  }
 ],
 "metadata": {
  "kernelspec": {
   "display_name": "Python 3",
   "language": "python",
   "name": "python3"
  },
  "language_info": {
   "codemirror_mode": {
    "name": "ipython",
    "version": 3
   },
   "file_extension": ".py",
   "mimetype": "text/x-python",
   "name": "python",
   "nbconvert_exporter": "python",
   "pygments_lexer": "ipython3",
   "version": "3.6.4"
  }
 },
 "nbformat": 4,
 "nbformat_minor": 2
}
